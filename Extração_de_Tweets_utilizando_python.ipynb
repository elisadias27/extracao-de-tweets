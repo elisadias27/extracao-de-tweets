{
  "nbformat": 4,
  "nbformat_minor": 0,
  "metadata": {
    "colab": {
      "provenance": [],
      "authorship_tag": "ABX9TyOzHSjeWZXaKm/7QaA1FP5K",
      "include_colab_link": true
    },
    "kernelspec": {
      "name": "python3",
      "display_name": "Python 3"
    },
    "language_info": {
      "name": "python"
    }
  },
  "cells": [
    {
      "cell_type": "markdown",
      "metadata": {
        "id": "view-in-github",
        "colab_type": "text"
      },
      "source": [
        "<a href=\"https://colab.research.google.com/github/elisadias27/extracao-de-tweets/blob/main/Extra%C3%A7%C3%A3o_de_Tweets_utilizando_python.ipynb\" target=\"_parent\"><img src=\"https://colab.research.google.com/assets/colab-badge.svg\" alt=\"Open In Colab\"/></a>"
      ]
    },
    {
      "cell_type": "markdown",
      "source": [
        "## **Extraindo Tweets com Python**"
      ],
      "metadata": {
        "id": "kqBgD2pXx5OW"
      }
    },
    {
      "cell_type": "code",
      "execution_count": null,
      "metadata": {
        "colab": {
          "base_uri": "https://localhost:8080/"
        },
        "id": "SGp94GeaxaEe",
        "outputId": "af163f6f-19f8-4314-cf5b-0b5d9edde668"
      },
      "outputs": [
        {
          "output_type": "stream",
          "name": "stdout",
          "text": [
            "Looking in indexes: https://pypi.org/simple, https://us-python.pkg.dev/colab-wheels/public/simple/\n",
            "Collecting snscrape\n",
            "  Downloading snscrape-0.4.3.20220106-py3-none-any.whl (59 kB)\n",
            "\u001b[2K     \u001b[90m━━━━━━━━━━━━━━━━━━━━━━━━━━━━━━━━━━━━━━━━\u001b[0m \u001b[32m59.1/59.1 KB\u001b[0m \u001b[31m4.2 MB/s\u001b[0m eta \u001b[36m0:00:00\u001b[0m\n",
            "\u001b[?25hRequirement already satisfied: lxml in /usr/local/lib/python3.8/dist-packages (from snscrape) (4.9.2)\n",
            "Requirement already satisfied: pytz in /usr/local/lib/python3.8/dist-packages (from snscrape) (2022.7)\n",
            "Requirement already satisfied: requests[socks] in /usr/local/lib/python3.8/dist-packages (from snscrape) (2.25.1)\n",
            "Requirement already satisfied: filelock in /usr/local/lib/python3.8/dist-packages (from snscrape) (3.8.2)\n",
            "Requirement already satisfied: beautifulsoup4 in /usr/local/lib/python3.8/dist-packages (from snscrape) (4.6.3)\n",
            "Requirement already satisfied: idna<3,>=2.5 in /usr/local/lib/python3.8/dist-packages (from requests[socks]->snscrape) (2.10)\n",
            "Requirement already satisfied: certifi>=2017.4.17 in /usr/local/lib/python3.8/dist-packages (from requests[socks]->snscrape) (2022.12.7)\n",
            "Requirement already satisfied: urllib3<1.27,>=1.21.1 in /usr/local/lib/python3.8/dist-packages (from requests[socks]->snscrape) (1.24.3)\n",
            "Requirement already satisfied: chardet<5,>=3.0.2 in /usr/local/lib/python3.8/dist-packages (from requests[socks]->snscrape) (4.0.0)\n",
            "Requirement already satisfied: PySocks!=1.5.7,>=1.5.6 in /usr/local/lib/python3.8/dist-packages (from requests[socks]->snscrape) (1.7.1)\n",
            "Installing collected packages: snscrape\n",
            "Successfully installed snscrape-0.4.3.20220106\n"
          ]
        }
      ],
      "source": [
        "!pip3 install snscrape"
      ]
    },
    {
      "cell_type": "code",
      "source": [
        "import snscrape.modules.twitter as sntwitter\n",
        "import pandas as pd"
      ],
      "metadata": {
        "id": "iJXXeR5Nx4LT"
      },
      "execution_count": null,
      "outputs": []
    },
    {
      "cell_type": "code",
      "source": [
        "maxtweets=100\n",
        "i = 0\n",
        "tweets_lista = []\n",
        "for tweet in sntwitter.TwitterSearchScraper('Simone Tebet since:2022-10-02 until:2022-10-07').get_items():\n",
        "  if i > maxtweets:\n",
        "    break\n",
        "  tweets_lista.append([tweet.date, tweet.user.username, tweet.content, tweet.likeCount])\n",
        "  i = i +1"
      ],
      "metadata": {
        "id": "SgEvnGJWylnX"
      },
      "execution_count": null,
      "outputs": []
    },
    {
      "cell_type": "code",
      "source": [
        "tweets_df = pd.DataFrame(tweets_lista, columns=['date', 'username', 'content', 'likes'])"
      ],
      "metadata": {
        "id": "tu2_2Veyylk6"
      },
      "execution_count": null,
      "outputs": []
    },
    {
      "cell_type": "code",
      "source": [
        "tweets_df"
      ],
      "metadata": {
        "colab": {
          "base_uri": "https://localhost:8080/",
          "height": 424
        },
        "id": "ESNflkThyliG",
        "outputId": "ec9e3a5c-9db8-48b4-cded-f8234303bf4b"
      },
      "execution_count": null,
      "outputs": [
        {
          "output_type": "execute_result",
          "data": {
            "text/plain": [
              "                         date         username  \\\n",
              "0   2022-10-06 23:59:56+00:00    amadouaminata   \n",
              "1   2022-10-06 23:59:52+00:00   LSilva67684514   \n",
              "2   2022-10-06 23:59:43+00:00  MARCELOCALDASP1   \n",
              "3   2022-10-06 23:59:39+00:00    marlimpoletto   \n",
              "4   2022-10-06 23:59:37+00:00   DaysonCamargoM   \n",
              "..                        ...              ...   \n",
              "96  2022-10-06 23:52:13+00:00       luizchatao   \n",
              "97  2022-10-06 23:52:12+00:00       CelPacelli   \n",
              "98  2022-10-06 23:52:08+00:00  MarcosM17579851   \n",
              "99  2022-10-06 23:51:42+00:00   medalhamedalha   \n",
              "100 2022-10-06 23:51:33+00:00    ChainSmoker99   \n",
              "\n",
              "                                               content  likes  \n",
              "0    @simonetebetbr @LulaOficial Obrigado, Presiden...      1  \n",
              "1    @VLevyAbdel @Pedro_22_2022 @SeriesBrasil @Lula...      1  \n",
              "2    @JosueLucca @KaykyStt @nahccas @manapg01 @Mate...      0  \n",
              "3                     @simonetebetbr Vc foi uma piada.      0  \n",
              "4    @simonetebetbr Quem te viu quem te vê! \\nHoje ...      0  \n",
              "..                                                 ...    ...  \n",
              "96   @o_antagonista @simonetebetbr se puder explica...      1  \n",
              "97   @jjfico_santos @GuilhermeBoulos @simonetebetbr...      2  \n",
              "98   @simonetebetbr @LulaOficial Que decepção, vote...      0  \n",
              "99   @simonetebetbr Esse seu ato foi seu sepultamen...      0  \n",
              "100  @SolangeGiachet1 @Gabriel33499960 @deangelisra...      1  \n",
              "\n",
              "[101 rows x 4 columns]"
            ],
            "text/html": [
              "\n",
              "  <div id=\"df-02ed66dc-8e7c-4934-a4ed-47c48c2da672\">\n",
              "    <div class=\"colab-df-container\">\n",
              "      <div>\n",
              "<style scoped>\n",
              "    .dataframe tbody tr th:only-of-type {\n",
              "        vertical-align: middle;\n",
              "    }\n",
              "\n",
              "    .dataframe tbody tr th {\n",
              "        vertical-align: top;\n",
              "    }\n",
              "\n",
              "    .dataframe thead th {\n",
              "        text-align: right;\n",
              "    }\n",
              "</style>\n",
              "<table border=\"1\" class=\"dataframe\">\n",
              "  <thead>\n",
              "    <tr style=\"text-align: right;\">\n",
              "      <th></th>\n",
              "      <th>date</th>\n",
              "      <th>username</th>\n",
              "      <th>content</th>\n",
              "      <th>likes</th>\n",
              "    </tr>\n",
              "  </thead>\n",
              "  <tbody>\n",
              "    <tr>\n",
              "      <th>0</th>\n",
              "      <td>2022-10-06 23:59:56+00:00</td>\n",
              "      <td>amadouaminata</td>\n",
              "      <td>@simonetebetbr @LulaOficial Obrigado, Presiden...</td>\n",
              "      <td>1</td>\n",
              "    </tr>\n",
              "    <tr>\n",
              "      <th>1</th>\n",
              "      <td>2022-10-06 23:59:52+00:00</td>\n",
              "      <td>LSilva67684514</td>\n",
              "      <td>@VLevyAbdel @Pedro_22_2022 @SeriesBrasil @Lula...</td>\n",
              "      <td>1</td>\n",
              "    </tr>\n",
              "    <tr>\n",
              "      <th>2</th>\n",
              "      <td>2022-10-06 23:59:43+00:00</td>\n",
              "      <td>MARCELOCALDASP1</td>\n",
              "      <td>@JosueLucca @KaykyStt @nahccas @manapg01 @Mate...</td>\n",
              "      <td>0</td>\n",
              "    </tr>\n",
              "    <tr>\n",
              "      <th>3</th>\n",
              "      <td>2022-10-06 23:59:39+00:00</td>\n",
              "      <td>marlimpoletto</td>\n",
              "      <td>@simonetebetbr Vc foi uma piada.</td>\n",
              "      <td>0</td>\n",
              "    </tr>\n",
              "    <tr>\n",
              "      <th>4</th>\n",
              "      <td>2022-10-06 23:59:37+00:00</td>\n",
              "      <td>DaysonCamargoM</td>\n",
              "      <td>@simonetebetbr Quem te viu quem te vê! \\nHoje ...</td>\n",
              "      <td>0</td>\n",
              "    </tr>\n",
              "    <tr>\n",
              "      <th>...</th>\n",
              "      <td>...</td>\n",
              "      <td>...</td>\n",
              "      <td>...</td>\n",
              "      <td>...</td>\n",
              "    </tr>\n",
              "    <tr>\n",
              "      <th>96</th>\n",
              "      <td>2022-10-06 23:52:13+00:00</td>\n",
              "      <td>luizchatao</td>\n",
              "      <td>@o_antagonista @simonetebetbr se puder explica...</td>\n",
              "      <td>1</td>\n",
              "    </tr>\n",
              "    <tr>\n",
              "      <th>97</th>\n",
              "      <td>2022-10-06 23:52:12+00:00</td>\n",
              "      <td>CelPacelli</td>\n",
              "      <td>@jjfico_santos @GuilhermeBoulos @simonetebetbr...</td>\n",
              "      <td>2</td>\n",
              "    </tr>\n",
              "    <tr>\n",
              "      <th>98</th>\n",
              "      <td>2022-10-06 23:52:08+00:00</td>\n",
              "      <td>MarcosM17579851</td>\n",
              "      <td>@simonetebetbr @LulaOficial Que decepção, vote...</td>\n",
              "      <td>0</td>\n",
              "    </tr>\n",
              "    <tr>\n",
              "      <th>99</th>\n",
              "      <td>2022-10-06 23:51:42+00:00</td>\n",
              "      <td>medalhamedalha</td>\n",
              "      <td>@simonetebetbr Esse seu ato foi seu sepultamen...</td>\n",
              "      <td>0</td>\n",
              "    </tr>\n",
              "    <tr>\n",
              "      <th>100</th>\n",
              "      <td>2022-10-06 23:51:33+00:00</td>\n",
              "      <td>ChainSmoker99</td>\n",
              "      <td>@SolangeGiachet1 @Gabriel33499960 @deangelisra...</td>\n",
              "      <td>1</td>\n",
              "    </tr>\n",
              "  </tbody>\n",
              "</table>\n",
              "<p>101 rows × 4 columns</p>\n",
              "</div>\n",
              "      <button class=\"colab-df-convert\" onclick=\"convertToInteractive('df-02ed66dc-8e7c-4934-a4ed-47c48c2da672')\"\n",
              "              title=\"Convert this dataframe to an interactive table.\"\n",
              "              style=\"display:none;\">\n",
              "        \n",
              "  <svg xmlns=\"http://www.w3.org/2000/svg\" height=\"24px\"viewBox=\"0 0 24 24\"\n",
              "       width=\"24px\">\n",
              "    <path d=\"M0 0h24v24H0V0z\" fill=\"none\"/>\n",
              "    <path d=\"M18.56 5.44l.94 2.06.94-2.06 2.06-.94-2.06-.94-.94-2.06-.94 2.06-2.06.94zm-11 1L8.5 8.5l.94-2.06 2.06-.94-2.06-.94L8.5 2.5l-.94 2.06-2.06.94zm10 10l.94 2.06.94-2.06 2.06-.94-2.06-.94-.94-2.06-.94 2.06-2.06.94z\"/><path d=\"M17.41 7.96l-1.37-1.37c-.4-.4-.92-.59-1.43-.59-.52 0-1.04.2-1.43.59L10.3 9.45l-7.72 7.72c-.78.78-.78 2.05 0 2.83L4 21.41c.39.39.9.59 1.41.59.51 0 1.02-.2 1.41-.59l7.78-7.78 2.81-2.81c.8-.78.8-2.07 0-2.86zM5.41 20L4 18.59l7.72-7.72 1.47 1.35L5.41 20z\"/>\n",
              "  </svg>\n",
              "      </button>\n",
              "      \n",
              "  <style>\n",
              "    .colab-df-container {\n",
              "      display:flex;\n",
              "      flex-wrap:wrap;\n",
              "      gap: 12px;\n",
              "    }\n",
              "\n",
              "    .colab-df-convert {\n",
              "      background-color: #E8F0FE;\n",
              "      border: none;\n",
              "      border-radius: 50%;\n",
              "      cursor: pointer;\n",
              "      display: none;\n",
              "      fill: #1967D2;\n",
              "      height: 32px;\n",
              "      padding: 0 0 0 0;\n",
              "      width: 32px;\n",
              "    }\n",
              "\n",
              "    .colab-df-convert:hover {\n",
              "      background-color: #E2EBFA;\n",
              "      box-shadow: 0px 1px 2px rgba(60, 64, 67, 0.3), 0px 1px 3px 1px rgba(60, 64, 67, 0.15);\n",
              "      fill: #174EA6;\n",
              "    }\n",
              "\n",
              "    [theme=dark] .colab-df-convert {\n",
              "      background-color: #3B4455;\n",
              "      fill: #D2E3FC;\n",
              "    }\n",
              "\n",
              "    [theme=dark] .colab-df-convert:hover {\n",
              "      background-color: #434B5C;\n",
              "      box-shadow: 0px 1px 3px 1px rgba(0, 0, 0, 0.15);\n",
              "      filter: drop-shadow(0px 1px 2px rgba(0, 0, 0, 0.3));\n",
              "      fill: #FFFFFF;\n",
              "    }\n",
              "  </style>\n",
              "\n",
              "      <script>\n",
              "        const buttonEl =\n",
              "          document.querySelector('#df-02ed66dc-8e7c-4934-a4ed-47c48c2da672 button.colab-df-convert');\n",
              "        buttonEl.style.display =\n",
              "          google.colab.kernel.accessAllowed ? 'block' : 'none';\n",
              "\n",
              "        async function convertToInteractive(key) {\n",
              "          const element = document.querySelector('#df-02ed66dc-8e7c-4934-a4ed-47c48c2da672');\n",
              "          const dataTable =\n",
              "            await google.colab.kernel.invokeFunction('convertToInteractive',\n",
              "                                                     [key], {});\n",
              "          if (!dataTable) return;\n",
              "\n",
              "          const docLinkHtml = 'Like what you see? Visit the ' +\n",
              "            '<a target=\"_blank\" href=https://colab.research.google.com/notebooks/data_table.ipynb>data table notebook</a>'\n",
              "            + ' to learn more about interactive tables.';\n",
              "          element.innerHTML = '';\n",
              "          dataTable['output_type'] = 'display_data';\n",
              "          await google.colab.output.renderOutput(dataTable, element);\n",
              "          const docLink = document.createElement('div');\n",
              "          docLink.innerHTML = docLinkHtml;\n",
              "          element.appendChild(docLink);\n",
              "        }\n",
              "      </script>\n",
              "    </div>\n",
              "  </div>\n",
              "  "
            ]
          },
          "metadata": {},
          "execution_count": 16
        }
      ]
    },
    {
      "cell_type": "code",
      "source": [
        "import csv\n",
        "import nltk\n",
        "from nltk.tokenize import word_tokenize \n",
        "from wordcloud import WordCloud\n",
        "import numpy as np\n",
        "from PIL import Image\n",
        "import matplotlib.pyplot as plt"
      ],
      "metadata": {
        "id": "Q-CN8SRr2Br3"
      },
      "execution_count": null,
      "outputs": []
    },
    {
      "cell_type": "code",
      "source": [
        "nltk.download('punkt')\n",
        "nltk.download('stopwords')"
      ],
      "metadata": {
        "id": "MNvKTqM22Bo5",
        "colab": {
          "base_uri": "https://localhost:8080/"
        },
        "outputId": "560adedf-99ca-4280-c6a7-af5fc24369de"
      },
      "execution_count": null,
      "outputs": [
        {
          "output_type": "stream",
          "name": "stderr",
          "text": [
            "[nltk_data] Downloading package punkt to /root/nltk_data...\n",
            "[nltk_data]   Unzipping tokenizers/punkt.zip.\n",
            "[nltk_data] Downloading package stopwords to /root/nltk_data...\n",
            "[nltk_data]   Unzipping corpora/stopwords.zip.\n"
          ]
        },
        {
          "output_type": "execute_result",
          "data": {
            "text/plain": [
              "True"
            ]
          },
          "metadata": {},
          "execution_count": 18
        }
      ]
    },
    {
      "cell_type": "code",
      "source": [
        "stop_words = nltk.corpus.stopwords.words('portuguese')\n",
        "stop_words = stop_words + list([ ',','.','https', ':','!', '#', '@', '?', '/', 'O', 'vai', '|', '–','pra', 'a', 'e', '-'])"
      ],
      "metadata": {
        "id": "Ydd_BSIJ74am"
      },
      "execution_count": null,
      "outputs": []
    },
    {
      "cell_type": "code",
      "source": [
        "def remove_stopwords(x):\n",
        "  word_tokens = nltk.word_tokenize(x)\n",
        "  \n",
        "  filtered_sentence = ' '.join([w for w in word_tokens if not (w in stop_words or len(w)<4)]) \n",
        "  return filtered_sentence"
      ],
      "metadata": {
        "id": "YpG7Pqmd74Xe"
      },
      "execution_count": null,
      "outputs": []
    },
    {
      "cell_type": "code",
      "source": [
        "tweets_df['filtered_text'] = tweets_df['content'].apply(lambda x: remove_stopwords(x))"
      ],
      "metadata": {
        "id": "v4_UuvZ574Ut"
      },
      "execution_count": null,
      "outputs": []
    },
    {
      "cell_type": "code",
      "source": [
        "tweets_df['filtered_text']"
      ],
      "metadata": {
        "colab": {
          "base_uri": "https://localhost:8080/"
        },
        "id": "L28LF5Li8FBv",
        "outputId": "506af1fb-424c-4004-f3b7-8debafab8f3b"
      },
      "execution_count": null,
      "outputs": [
        {
          "output_type": "execute_result",
          "data": {
            "text/plain": [
              "0      simonetebetbr LulaOficial Obrigado Presidente ...\n",
              "1      VLevyAbdel Pedro_22_2022 SeriesBrasil LulaOfic...\n",
              "2      JosueLucca KaykyStt nahccas manapg01 MateusKil...\n",
              "3                                    simonetebetbr piada\n",
              "4          simonetebetbr Quem Hoje lembra patinhos Lagoa\n",
              "                             ...                        \n",
              "96     o_antagonista simonetebetbr puder explica plan...\n",
              "97     jjfico_santos GuilhermeBoulos simonetebetbr Qu...\n",
              "98     simonetebetbr LulaOficial decepção votei achar...\n",
              "99              simonetebetbr Esse sepultamento político\n",
              "100    SolangeGiachet1 Gabriel33499960 deangelisrafae...\n",
              "Name: filtered_text, Length: 101, dtype: object"
            ]
          },
          "metadata": {},
          "execution_count": 23
        }
      ]
    },
    {
      "cell_type": "code",
      "source": [
        "pd.Series(' '.join(tweets_df['filtered_text'].str.lower()).split()).value_counts()[:20]"
      ],
      "metadata": {
        "colab": {
          "base_uri": "https://localhost:8080/"
        },
        "id": "mrvPV9d98E_O",
        "outputId": "97ce5f9a-ac1d-465e-f7bd-c45012968cff"
      },
      "execution_count": null,
      "outputs": [
        {
          "output_type": "execute_result",
          "data": {
            "text/plain": [
              "simonetebetbr    83\n",
              "lulaoficial      31\n",
              "simone           23\n",
              "tebet            23\n",
              "lula             16\n",
              "voto             10\n",
              "agora             9\n",
              "brasil            7\n",
              "votar             6\n",
              "bolsonaro         6\n",
              "pessoas           6\n",
              "obrigado          5\n",
              "apoio             5\n",
              "ladrão            5\n",
              "cirogomes         5\n",
              "democracia        4\n",
              "sempre            4\n",
              "orçamento         4\n",
              "assim             4\n",
              "votei             4\n",
              "dtype: int64"
            ]
          },
          "metadata": {},
          "execution_count": 24
        }
      ]
    },
    {
      "cell_type": "code",
      "source": [],
      "metadata": {
        "id": "So9w-A8A8E8l"
      },
      "execution_count": null,
      "outputs": []
    }
  ]
}